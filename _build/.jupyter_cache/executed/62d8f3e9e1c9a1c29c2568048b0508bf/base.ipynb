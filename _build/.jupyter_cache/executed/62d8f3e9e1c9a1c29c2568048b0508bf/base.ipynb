{
 "cells": [
  {
   "cell_type": "code",
   "execution_count": 1,
   "metadata": {},
   "outputs": [
    {
     "name": "stderr",
     "output_type": "stream",
     "text": [
      "\u001b[1;33m[WARNING]: \u001b[0m\u001b[0;39mcannot initiate Sentry error reporting: [Errno 25] Inappropriate ioctl for device.\u001b[0m \u001b[0;36m(UserWarning)\u001b[0m\n"
     ]
    },
    {
     "name": "stderr",
     "output_type": "stream",
     "text": [
      "\u001b[0;34m[INFO]: \u001b[0mNo release version set. Setting default to DR17\n"
     ]
    },
    {
     "name": "stderr",
     "output_type": "stream",
     "text": [
      "\u001b[1;33m[WARNING]: \u001b[0m\u001b[0;39mpath /home/neap/sas/dr17/manga/spectro/analysis/v3_1_1/3.1.0/dapall-v3_1_1-3.1.0.fits cannot be found. Setting dapall to None.\u001b[0m \u001b[0;36m(MarvinUserWarning)\u001b[0m\n"
     ]
    }
   ],
   "source": [
    "from marvin.tools import Maps\n",
    "import marvin\n",
    "import numpy as np\n",
    "import matplotlib.pyplot as plt"
   ]
  },
  {
   "cell_type": "code",
   "execution_count": 2,
   "metadata": {},
   "outputs": [],
   "source": [
    "def mask_PSB(hvalue, dvalue, divar, snr): \n",
    "    psb = np.zeros(hvalue.shape, dtype=bool)\n",
    "\n",
    "    var = 1 / np.sqrt(divar)\n",
    "    psb[np.logical_and(np.logical_and(hvalue < 3, (dvalue - var) > 4), snr > 3)] = True\n",
    "\n",
    "    return psb"
   ]
  },
  {
   "cell_type": "code",
   "execution_count": 3,
   "metadata": {},
   "outputs": [],
   "source": [
    "def get_histogram(galaxy_id):\n",
    "    np.seterr(divide='ignore')\n",
    "    galaxy = marvin.tools.Maps(galaxy_id, bintype='HYB10')\n",
    "    alpha = galaxy.emline_gew_ha_6564\n",
    "    delta = galaxy.specindex_hdeltaagalaxy\n",
    "    snr = galaxy.spx_snr\n",
    "    snr_value = getattr(snr, 'value', None)\n",
    "    value = getattr(alpha, 'value', None)\n",
    "    dvalue = getattr(delta, 'value', None)\n",
    "    divar = getattr(delta, 'ivar', None)\n",
    "    maskpsb = mask_PSB(value, dvalue, divar, snr_value)"
   ]
  },
  {
   "cell_type": "code",
   "execution_count": 4,
   "metadata": {},
   "outputs": [],
   "source": [
    "def get_total_spaxels(dapmap):\n",
    "    value = getattr(dapmap, 'value', None)\n",
    "    ivar = getattr(dapmap, 'ivar', None)\n",
    "    low_snr = mask_low_snr(value, ivar, 1)\n",
    "    nocov = dapmap.pixmask.get_mask('NOCOV')\n",
    "    good_spax = np.ma.array(value, mask=np.logical_or.reduce((nocov, low_snr)))\n",
    "    valid_counts = good_spax.count()\n",
    "    return valid_counts\n",
    "\n",
    "def mask_low_snr(value, ivar, snr_min):\n",
    "\n",
    "    low_snr = np.zeros(value.shape, dtype=bool)\n",
    "\n",
    "    if (ivar is not None) and (not np.all(np.isnan(ivar))):\n",
    "        low_snr = (ivar == 0.)\n",
    "\n",
    "        if snr_min is not None:\n",
    "            low_snr[np.abs(value * np.sqrt(ivar)) < snr_min] = True\n",
    "\n",
    "    return low_snr"
   ]
  },
  {
   "cell_type": "code",
   "execution_count": 5,
   "metadata": {},
   "outputs": [],
   "source": [
    "def get_histogram(galaxy_id):\n",
    "    np.seterr(divide='ignore')\n",
    "    galaxy = marvin.tools.Maps(galaxy_id, bintype='HYB10')\n",
    "    alpha = galaxy.emline_gew_ha_6564\n",
    "    delta = galaxy.specindex_hdeltaagalaxy\n",
    "    snr = galaxy.spx_snr\n",
    "    snr_value = getattr(snr, 'value', None)\n",
    "    \n",
    "    value = getattr(alpha, 'value', None)\n",
    "    dvalue = getattr(delta, 'value', None)\n",
    "    divar = getattr(delta, 'ivar', None)\n",
    "    \n",
    "    maskpsb = mask_PSB(value, dvalue, divar, snr_value)\n",
    "    total_spax = get_total_spaxels(alpha)\n",
    "    #print(np.count_nonzero(maskpsb))\n",
    "\n",
    "    masks, fig, axes = galaxy.get_bpt(use_oi = False, show_plot=False)"
   ]
  }
 ],
 "metadata": {
  "kernelspec": {
   "display_name": "marvin",
   "language": "python",
   "name": "python3"
  },
  "language_info": {
   "codemirror_mode": {
    "name": "ipython",
    "version": 3
   },
   "file_extension": ".py",
   "mimetype": "text/x-python",
   "name": "python",
   "nbconvert_exporter": "python",
   "pygments_lexer": "ipython3",
   "version": "3.8.17"
  }
 },
 "nbformat": 4,
 "nbformat_minor": 2
}