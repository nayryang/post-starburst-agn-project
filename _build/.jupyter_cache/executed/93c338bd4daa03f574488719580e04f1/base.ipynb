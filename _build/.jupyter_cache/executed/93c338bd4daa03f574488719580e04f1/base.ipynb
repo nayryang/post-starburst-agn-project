{
 "cells": [
  {
   "cell_type": "code",
   "execution_count": 1,
   "metadata": {},
   "outputs": [
    {
     "name": "stderr",
     "output_type": "stream",
     "text": [
      "\u001b[1;33m[WARNING]: \u001b[0m\u001b[0;39mcannot initiate Sentry error reporting: [Errno 25] Inappropriate ioctl for device.\u001b[0m \u001b[0;36m(UserWarning)\u001b[0m\n"
     ]
    },
    {
     "name": "stderr",
     "output_type": "stream",
     "text": [
      "\u001b[0;34m[INFO]: \u001b[0mNo release version set. Setting default to DR17\n"
     ]
    },
    {
     "name": "stderr",
     "output_type": "stream",
     "text": [
      "\u001b[1;33m[WARNING]: \u001b[0m\u001b[0;39mpath /home/neap/sas/dr17/manga/spectro/analysis/v3_1_1/3.1.0/dapall-v3_1_1-3.1.0.fits cannot be found. Setting dapall to None.\u001b[0m \u001b[0;36m(MarvinUserWarning)\u001b[0m\n"
     ]
    }
   ],
   "source": [
    "from marvin.tools import Maps\n",
    "import marvin\n",
    "import numpy as np\n",
    "import matplotlib.pyplot as plt"
   ]
  },
  {
   "cell_type": "code",
   "execution_count": 2,
   "metadata": {},
   "outputs": [],
   "source": [
    "def mask_PSB(hvalue, dvalue, divar, snr): \n",
    "    psb = np.zeros(hvalue.shape, dtype=bool)\n",
    "\n",
    "    var = 1 / np.sqrt(divar)\n",
    "    psb[np.logical_and(np.logical_and(hvalue < 3, (dvalue - var) > 4), snr > 3)] = True\n",
    "\n",
    "    return psb"
   ]
  },
  {
   "cell_type": "code",
   "execution_count": 3,
   "metadata": {},
   "outputs": [],
   "source": [
    "def get_histogram(galaxy_id):\n",
    "    np.seterr(divide='ignore')\n",
    "    galaxy = marvin.tools.Maps(galaxy_id, bintype='HYB10')\n",
    "    alpha = galaxy.emline_gew_ha_6564\n",
    "    delta = galaxy.specindex_hdeltaagalaxy\n",
    "    snr = galaxy.spx_snr\n",
    "    snr_value = getattr(snr, 'value', None)\n",
    "    value = getattr(alpha, 'value', None)\n",
    "    dvalue = getattr(delta, 'value', None)\n",
    "    divar = getattr(delta, 'ivar', None)\n",
    "    maskpsb = mask_PSB(value, dvalue, divar, snr_value)"
   ]
  },
  {
   "cell_type": "code",
   "execution_count": 4,
   "metadata": {},
   "outputs": [],
   "source": [
    "def get_total_spaxels(dapmap):\n",
    "    value = getattr(dapmap, 'value', None)\n",
    "    ivar = getattr(dapmap, 'ivar', None)\n",
    "    low_snr = mask_low_snr(value, ivar, 1)\n",
    "    nocov = dapmap.pixmask.get_mask('NOCOV')\n",
    "    good_spax = np.ma.array(value, mask=np.logical_or.reduce((nocov, low_snr)))\n",
    "    valid_counts = good_spax.count()\n",
    "    return valid_counts\n",
    "\n",
    "def mask_low_snr(value, ivar, snr_min):\n",
    "\n",
    "    low_snr = np.zeros(value.shape, dtype=bool)\n",
    "\n",
    "    if (ivar is not None) and (not np.all(np.isnan(ivar))):\n",
    "        low_snr = (ivar == 0.)\n",
    "\n",
    "        if snr_min is not None:\n",
    "            low_snr[np.abs(value * np.sqrt(ivar)) < snr_min] = True\n",
    "\n",
    "    return low_snr"
   ]
  },
  {
   "cell_type": "code",
   "execution_count": 5,
   "metadata": {},
   "outputs": [],
   "source": [
    "def get_histogram(galaxy_id):\n",
    "    np.seterr(divide='ignore')\n",
    "    galaxy = marvin.tools.Maps(galaxy_id, bintype='HYB10')\n",
    "    alpha = galaxy.emline_gew_ha_6564\n",
    "    delta = galaxy.specindex_hdeltaagalaxy\n",
    "    snr = galaxy.spx_snr\n",
    "    snr_value = getattr(snr, 'value', None)\n",
    "    \n",
    "    value = getattr(alpha, 'value', None)\n",
    "    dvalue = getattr(delta, 'value', None)\n",
    "    divar = getattr(delta, 'ivar', None)\n",
    "    \n",
    "    maskpsb = mask_PSB(value, dvalue, divar, snr_value)\n",
    "    total_spax = get_total_spaxels(alpha)\n",
    "    #print(np.count_nonzero(maskpsb))\n",
    "\n",
    "    masks, fig, axes = galaxy.get_bpt(use_oi = False, show_plot=False)"
   ]
  },
  {
   "cell_type": "code",
   "execution_count": 6,
   "metadata": {},
   "outputs": [],
   "source": [
    "def get_histogram(galaxy_id):\n",
    "    np.seterr(divide='ignore')\n",
    "    galaxy = marvin.tools.Maps(galaxy_id, bintype='HYB10')\n",
    "    alpha = galaxy.emline_gew_ha_6564\n",
    "    delta = galaxy.specindex_hdeltaagalaxy\n",
    "    snr = galaxy.spx_snr\n",
    "    snr_value = getattr(snr, 'value', None)\n",
    "    \n",
    "    value = getattr(alpha, 'value', None)\n",
    "    dvalue = getattr(delta, 'value', None)\n",
    "    divar = getattr(delta, 'ivar', None)\n",
    "    \n",
    "    maskpsb = mask_PSB(value, dvalue, divar, snr_value)\n",
    "    total_spax = get_total_spaxels(alpha)\n",
    "    #print(np.count_nonzero(maskpsb))\n",
    "\n",
    "    masks, fig, axes = galaxy.get_bpt(use_oi = False, show_plot=False)\n",
    "\n",
    "    comp_mask = maskpsb & masks['comp']['nii'] \n",
    "    comp_psbcount = np.count_nonzero(comp_mask)\n",
    "    comp_nopsb = np.count_nonzero(masks['comp']['nii']) - comp_psbcount\n",
    "\n",
    "    sf_mask = maskpsb & masks['sf']['nii'] \n",
    "    sf_psbcount = np.count_nonzero(sf_mask)\n",
    "    sf_nopsb = np.count_nonzero(masks['sf']['nii']) - sf_psbcount\n",
    "\n",
    "    amb_mask = maskpsb & masks['ambiguous']['global'] \n",
    "    amb_psbcount = np.count_nonzero(amb_mask)\n",
    "    amb_nopsb = np.count_nonzero(masks['ambiguous']['global']) - amb_psbcount\n",
    "\n",
    "    seyf_mask = maskpsb & masks['seyfert']['sii'] \n",
    "    seyf_psbcount = np.count_nonzero(seyf_mask)\n",
    "    seyf_nopsb = np.count_nonzero(masks['seyfert']['sii']) - seyf_psbcount\n",
    "\n",
    "    liner_mask = maskpsb & masks['liner']['sii'] \n",
    "    liner_psbcount = np.count_nonzero(liner_mask)\n",
    "    liner_nopsb = np.count_nonzero(masks['liner']['sii']) - liner_psbcount\n",
    "\n",
    "    psb_noncategorized = np.count_nonzero(maskpsb) - comp_psbcount - sf_psbcount - amb_psbcount - seyf_psbcount - liner_psbcount\n",
    "    nonpsb_noncategorized = np.count_nonzero(masks['invalid']['global'])\n",
    "\n",
    "    return [comp_psbcount, comp_nopsb, sf_psbcount, sf_nopsb, amb_psbcount, amb_nopsb, seyf_psbcount, seyf_nopsb, liner_psbcount, liner_nopsb, psb_noncategorized, nonpsb_noncategorized]"
   ]
  },
  {
   "cell_type": "code",
   "execution_count": 7,
   "metadata": {},
   "outputs": [],
   "source": [
    "def plot(galaxy):\n",
    "    counts = get_histogram(galaxy)\n",
    "    comp_psbTotal += counts[0]\n",
    "    comp_nopsbTotal += counts[1]\n",
    "    sf_psbTotal += counts[2]\n",
    "    sf_nopsbTotal += counts[3]\n",
    "    amb_psbTotal += counts[4]\n",
    "    amb_noTotal += counts[5]\n",
    "    seyf_psbTotal += counts[6]\n",
    "    seyf_noTotal += counts[7]\n",
    "    liner_psbTotal += counts[8]\n",
    "    liner_nopsbTotal += counts[9]\n",
    "    psb_noncategorized += counts[10]\n",
    "    nopsb_noncategorized += counts[11]\n",
    "\n",
    "    categories = ('Star Forming', 'Composite', 'Ambiguous', 'Seyfert', 'LINER', 'Nonclassified')\n",
    "    category_counts = {\n",
    "    'PSB': (sf_psbTotal, comp_psbTotal, amb_psbTotal, seyf_psbTotal, liner_psbTotal, psb_noncategorized),\n",
    "    'No PSB': (sf_nopsbTotal, comp_nopsbTotal, amb_noTotal, seyf_noTotal, liner_nopsbTotal, nopsb_noncategorized),\n",
    "    }\n",
    "\n",
    "    x = np.arange(len(categories))  # the label locations\n",
    "    width = 0.4\n",
    "    multiplier = 0\n",
    "\n",
    "    fig, ax = plt.subplots(layout='constrained')\n",
    "\n",
    "    for category, count in category_counts.items():\n",
    "        offset = width * multiplier\n",
    "        rects = ax.bar(x + offset, count, width, label=category)\n",
    "        ax.bar_label(rects, padding=3)\n",
    "        multiplier += 1\n",
    "\n",
    "    ax.set_ylabel('Frequency')\n",
    "    ax.set_title('PSB vs non-PSB Spaxels for all galaxies')\n",
    "    ax.set_xticks(x + width - 0.20, categories)\n",
    "    ax.legend(loc='upper left')\n",
    "    maxy = max([sf_psbTotal, comp_psbTotal, amb_psbTotal, seyf_psbTotal, liner_psbTotal, sf_nopsbTotal, comp_nopsbTotal, amb_noTotal, seyf_noTotal, liner_nopsbTotal])\n",
    "    maxy = 1.2*maxy\n",
    "    ax.set_ylim([0, maxy])\n",
    "    ax.text(0.87, 0.76, str(nopsb_noncategorized),\n",
    "        horizontalalignment='right',\n",
    "        verticalalignment='top',\n",
    "        transform = ax.transAxes)\n",
    "\n",
    "    plt.show()"
   ]
  }
 ],
 "metadata": {
  "kernelspec": {
   "display_name": "marvin",
   "language": "python",
   "name": "python3"
  },
  "language_info": {
   "codemirror_mode": {
    "name": "ipython",
    "version": 3
   },
   "file_extension": ".py",
   "mimetype": "text/x-python",
   "name": "python",
   "nbconvert_exporter": "python",
   "pygments_lexer": "ipython3",
   "version": "3.8.17"
  }
 },
 "nbformat": 4,
 "nbformat_minor": 2
}