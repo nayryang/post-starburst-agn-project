{
 "cells": [
  {
   "cell_type": "code",
   "execution_count": 1,
   "metadata": {},
   "outputs": [
    {
     "name": "stderr",
     "output_type": "stream",
     "text": [
      "\u001b[1;33m[WARNING]: \u001b[0m\u001b[0;39mcannot initiate Sentry error reporting: [Errno 25] Inappropriate ioctl for device.\u001b[0m \u001b[0;36m(UserWarning)\u001b[0m\n"
     ]
    },
    {
     "name": "stderr",
     "output_type": "stream",
     "text": [
      "\u001b[0;34m[INFO]: \u001b[0mNo release version set. Setting default to DR17\n"
     ]
    },
    {
     "name": "stderr",
     "output_type": "stream",
     "text": [
      "\u001b[1;33m[WARNING]: \u001b[0m\u001b[0;39mpath /home/neap/sas/dr17/manga/spectro/analysis/v3_1_1/3.1.0/dapall-v3_1_1-3.1.0.fits cannot be found. Setting dapall to None.\u001b[0m \u001b[0;36m(MarvinUserWarning)\u001b[0m\n"
     ]
    }
   ],
   "source": [
    "import marvin\n",
    "import matplotlib.pyplot as plt\n",
    "from marvin.tools import Maps\n",
    "import numpy as np\n",
    "%matplotlib inline"
   ]
  },
  {
   "cell_type": "code",
   "execution_count": 2,
   "metadata": {},
   "outputs": [],
   "source": [
    "galaxy = marvin.tools.Maps('10507-1901', bintype='HYB10')\n",
    "h_alpha_ew = galaxy.emline_gew_ha_6564\n",
    "lick_h_delta = galaxy.specindex_hdeltaagalaxy"
   ]
  },
  {
   "cell_type": "code",
   "execution_count": 3,
   "metadata": {},
   "outputs": [],
   "source": [
    "h_alpha_ew_values = getattr(h_alpha_ew, 'value', None)\n",
    "h_delta_values= getattr(lick_h_delta, 'value', None)\n",
    "h_delta_ivar_values = getattr(lick_h_delta, 'ivar', None)"
   ]
  },
  {
   "cell_type": "code",
   "execution_count": 4,
   "metadata": {},
   "outputs": [],
   "source": [
    "def mask_PSB(hvalue, dvalue, divar): \n",
    "\n",
    "    psb = np.zeros(hvalue.shape, dtype=bool)\n",
    "    var = 1 / np.sqrt(divar)\n",
    "    psb[np.logical_and(hvalue < 3, (dvalue - var) > 4)] = True\n",
    "\n",
    "    return psb"
   ]
  },
  {
   "cell_type": "code",
   "execution_count": 5,
   "metadata": {},
   "outputs": [],
   "source": [
    "snr = galaxy.spx_snr\n",
    "snr_value = getattr(snr, 'value', None)\n",
    "\n",
    "def mask_PSB(hvalue, dvalue, divar, snr): \n",
    "    psb = np.zeros(hvalue.shape, dtype=bool)\n",
    "\n",
    "    var = 1 / np.sqrt(divar)\n",
    "    psb[np.logical_and(np.logical_and(hvalue < 3, (dvalue - var) > 4), snr > 3)] = True\n",
    "\n",
    "    return psb"
   ]
  }
 ],
 "metadata": {
  "kernelspec": {
   "display_name": "marvin",
   "language": "python",
   "name": "python3"
  },
  "language_info": {
   "codemirror_mode": {
    "name": "ipython",
    "version": 3
   },
   "file_extension": ".py",
   "mimetype": "text/x-python",
   "name": "python",
   "nbconvert_exporter": "python",
   "pygments_lexer": "ipython3",
   "version": "3.8.17"
  }
 },
 "nbformat": 4,
 "nbformat_minor": 2
}