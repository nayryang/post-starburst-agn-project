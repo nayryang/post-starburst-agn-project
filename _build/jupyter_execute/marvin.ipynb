{
 "cells": [
  {
   "cell_type": "markdown",
   "id": "df4d15c3",
   "metadata": {},
   "source": [
    "# Using SDSS-marvin\n",
    "\n",
    "The most essential aspect of our project relies on analyzing the emission spectra from observable galaxies. We will be using the MaNGA database, which has mapped spectral measurements across the faces of around ~10,000 nearby galaxies. In order to access this data, we must first get acquainted with sdss-marvin. sdss-marvin is an open-source API that allows us to access MaNGA spectral data through python and is also specifically designed to visualize and analyze these datasets. For our purposes, we will be exclusively demonstrating features with the Maps interface, although you certainly can get acquainted the rest of marvin through their official [documentation](https://sdss-marvin.readthedocs.io/).\n",
    "\n",
    "Maps are wonderful tools in the marvin interface that allows us to retrieve information about a galaxy. First, let's explore how to retrieve a Map object for any specific galaxy."
   ]
  },
  {
   "cell_type": "code",
   "execution_count": null,
   "id": "e4dbfbac",
   "metadata": {},
   "outputs": [],
   "source": [
    "import marvin\n",
    "from marvin.tools import Maps\n",
    "maps = Maps(plateifu='8485-1901')\n",
    "maps"
   ]
  },
  {
   "cell_type": "markdown",
   "id": "467e8b93",
   "metadata": {},
   "source": [
    "All galaxies in the MaNGA dataset have an identifier based on the plate-ifus used to observe them. We use this identification number to retrieve information about a specific galaxy we are interested in through the Maps call. Alternatively, we can also create a map through this call as well:"
   ]
  },
  {
   "cell_type": "code",
   "execution_count": null,
   "id": "b955d3ec",
   "metadata": {},
   "outputs": [],
   "source": [
    "galaxy_map = marvin.tools.Maps('8485-1901', bintype='HYB10')\n",
    "galaxy_map"
   ]
  },
  {
   "cell_type": "markdown",
   "id": "65e135a4",
   "metadata": {},
   "source": [
    "Since maps are essentially objects that contain a bunch of information about the galaxy we have specified, we can retrieve any specific spectra by using the code below. Since we are interested in the H-Alpha equivalent width measurement, and the H-Delta absorption line, we retrieve the following:"
   ]
  },
  {
   "cell_type": "code",
   "execution_count": null,
   "id": "06583b60",
   "metadata": {},
   "outputs": [],
   "source": [
    "h_alpha_gew = galaxy_map.emline_gew_ha_6564\n",
    "lick_h_delta = galaxy_map.specindex_hdeltaagalaxy\n",
    "h_alpha_gew\n",
    "lick_h_delta"
   ]
  },
  {
   "cell_type": "markdown",
   "id": "188162b3",
   "metadata": {},
   "source": [
    "The variables h_alpha_gew and lick_h_delta now contain the spectral information we want for this galaxy. The data is stored in a 2D array, where each x, y is a region of the galaxy, and the spectral information at that datapoint is the spectral emission lines for that region. These datapoints are called spaxels (space pixels), and they essentially make up the galaxy by representing small sections at a time, analogous to pixels on an image. \n",
    "\n",
    "To make sense of this data, we can also plot these spaxels with marvin!"
   ]
  },
  {
   "cell_type": "code",
   "execution_count": null,
   "id": "2867faad",
   "metadata": {},
   "outputs": [],
   "source": [
    "h_alpha_gew.plot()"
   ]
  },
  {
   "cell_type": "markdown",
   "id": "fae5ab47",
   "metadata": {},
   "source": [
    "![](/book_images/halphaplot.png)\n",
    "\n",
    "Now that we understand how to retrieve the spectrum data for a galaxy, and its representation, let's now use these to identify Post-Starburst regions in our galaxy!"
   ]
  }
 ],
 "metadata": {
  "jupytext": {
   "formats": "md:myst",
   "text_representation": {
    "extension": ".md",
    "format_name": "myst",
    "format_version": 0.13,
    "jupytext_version": "1.11.5"
   }
  },
  "kernelspec": {
   "display_name": "Python 3",
   "language": "python",
   "name": "python3"
  },
  "source_map": [
   13,
   21,
   26,
   30,
   33,
   36,
   41,
   47,
   49
  ]
 },
 "nbformat": 4,
 "nbformat_minor": 5
}