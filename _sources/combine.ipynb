{
 "cells": [
  {
   "cell_type": "markdown",
   "metadata": {},
   "source": [
    "# Combining our Post-Starburst Regions and the BPT Diagrams\n",
    "\n",
    "With both sets of data now available to us, let's examine for any correlations between Post-Starburst, and classifications under the BPT model. We will do so by examining the percent of Post-Starburst regions within each classification.\n",
    "\n",
    "For example:\n",
    "- How much of Star-Formation dominated regions are also Post-Starburst regions?\n",
    "- How much of LINER dominated regions are also Post-Starburst regions?\n",
    "\n",
    "## Methodology\n",
    "\n",
    "Since we choose to create a mask to identify our PSB regions, comparing them with the BPT masks will be very straightforward!"
   ]
  },
  {
   "cell_type": "markdown",
   "metadata": {},
   "source": [
    "Let's first reintroduce our PSB mask method from earlier:"
   ]
  },
  {
   "cell_type": "code",
   "execution_count": 2,
   "metadata": {},
   "outputs": [
    {
     "name": "stderr",
     "output_type": "stream",
     "text": [
      "\u001b[1;33m[WARNING]: \u001b[0m\u001b[0;39mcannot initiate Sentry error reporting: [Errno 25] Inappropriate ioctl for device.\u001b[0m \u001b[0;36m(UserWarning)\u001b[0m\n",
      "\u001b[0;34m[INFO]: \u001b[0mNo release version set. Setting default to DR17\n",
      "\u001b[1;33m[WARNING]: \u001b[0m\u001b[0;39mpath /home/neap/sas/dr17/manga/spectro/analysis/v3_1_1/3.1.0/dapall-v3_1_1-3.1.0.fits cannot be found. Setting dapall to None.\u001b[0m \u001b[0;36m(MarvinUserWarning)\u001b[0m\n"
     ]
    }
   ],
   "source": [
    "from marvin.tools import Maps\n",
    "import marvin\n",
    "import numpy as np\n",
    "import matplotlib.pyplot as plt"
   ]
  },
  {
   "cell_type": "code",
   "execution_count": 3,
   "metadata": {},
   "outputs": [],
   "source": [
    "def mask_PSB(hvalue, dvalue, divar, snr): \n",
    "    psb = np.zeros(hvalue.shape, dtype=bool)\n",
    "\n",
    "    var = 1 / np.sqrt(divar)\n",
    "    psb[np.logical_and(np.logical_and(hvalue < 3, (dvalue - var) > 4), snr > 3)] = True\n",
    "\n",
    "    return psb"
   ]
  },
  {
   "cell_type": "markdown",
   "metadata": {},
   "source": [
    "Let's expand on this function, and implement it into a parent function that will compare the PSB regions and BPT classifications of any galaxy. \n",
    "First, we'll need to retrieve the spectra values for any galaxy, which we can then input into our masks."
   ]
  },
  {
   "cell_type": "code",
   "execution_count": 4,
   "metadata": {},
   "outputs": [],
   "source": [
    "def get_histogram(galaxy_id):\n",
    "    np.seterr(divide='ignore')\n",
    "    galaxy = marvin.tools.Maps(galaxy_id, bintype='HYB10')\n",
    "    alpha = galaxy.emline_gew_ha_6564\n",
    "    delta = galaxy.specindex_hdeltaagalaxy\n",
    "    snr = galaxy.spx_snr\n",
    "    snr_value = getattr(snr, 'value', None)\n",
    "    value = getattr(alpha, 'value', None)\n",
    "    dvalue = getattr(delta, 'value', None)\n",
    "    divar = getattr(delta, 'ivar', None)\n",
    "    maskpsb = mask_PSB(value, dvalue, divar, snr_value)"
   ]
  },
  {
   "cell_type": "markdown",
   "metadata": {},
   "source": [
    "Let's also generate the BPT masks for this galaxy as well!"
   ]
  },
  {
   "cell_type": "code",
   "execution_count": null,
   "metadata": {},
   "outputs": [],
   "source": [
    "masks, fig, axes = galaxy.get_bpt(use_oi = False, show_plot=True)"
   ]
  },
  {
   "cell_type": "markdown",
   "metadata": {},
   "source": [
    "If you have been following close attention to both our PSB and the BPT masks, you will notice a small issue. Marvin generation of BPT diagrams does not quite follow the same specification as our PSB masks. In particular, the BPT diagrams impose a SNR cut of 10, while we are much more lenient and allow a SNR over 3. Part of this is due to generating an adequate sample size. Through visual testing and analysis, we observed that a SNR cut of 3 would only leave trace amounts of spurious values, while optimizing the number of selected PSB spaxels.\n",
    "\n",
    "This now poses the issue that a large number of our PSB spaxels will be unclassified by the BPT diagram, so lets create a new function that will help us identify how many unclassified spaxels exist. \n",
    "\n",
    "To keep the logic simple, our new function will return the total spaxels in our PSB mask, which we can use like so:\n",
    "\n",
    "Total Spaxels - Classified Spaxels = Unclassified Spaxels"
   ]
  },
  {
   "cell_type": "code",
   "execution_count": 5,
   "metadata": {},
   "outputs": [],
   "source": [
    "def get_total_spaxels(dapmap):\n",
    "    value = getattr(dapmap, 'value', None)\n",
    "    ivar = getattr(dapmap, 'ivar', None)\n",
    "    low_snr = mask_low_snr(value, ivar, 3)\n",
    "    nocov = dapmap.pixmask.get_mask('NOCOV') \n",
    "    good_spax = np.ma.array(value, mask=np.logical_or.reduce((nocov, low_snr))) #This method is most similar to how marvin uses masks \n",
    "                                                                                #to cover unwanted spaxels, but there are many ways to do this.\n",
    "    valid_counts = good_spax.count()\n",
    "    return valid_counts\n",
    "\n",
    "def mask_low_snr(value, ivar, snr_min):\n",
    "\n",
    "    low_snr = np.zeros(value.shape, dtype=bool)\n",
    "\n",
    "    if (ivar is not None) and (not np.all(np.isnan(ivar))):\n",
    "        low_snr = (ivar == 0.)\n",
    "\n",
    "        if snr_min is not None:\n",
    "            low_snr[np.abs(value * np.sqrt(ivar)) < snr_min] = True\n",
    "\n",
    "    return low_snr"
   ]
  },
  {
   "cell_type": "markdown",
   "metadata": {},
   "source": [
    "Now, let's combine everything into our original function!"
   ]
  },
  {
   "cell_type": "code",
   "execution_count": 6,
   "metadata": {},
   "outputs": [],
   "source": [
    "def get_histogram(galaxy_id):\n",
    "    np.seterr(divide='ignore')\n",
    "    galaxy = marvin.tools.Maps(galaxy_id, bintype='HYB10')\n",
    "    alpha = galaxy.emline_gew_ha_6564\n",
    "    delta = galaxy.specindex_hdeltaagalaxy\n",
    "    snr = galaxy.spx_snr\n",
    "    snr_value = getattr(snr, 'value', None)\n",
    "    \n",
    "    value = getattr(alpha, 'value', None)\n",
    "    dvalue = getattr(delta, 'value', None)\n",
    "    divar = getattr(delta, 'ivar', None)\n",
    "    \n",
    "    maskpsb = mask_PSB(value, dvalue, divar, snr_value)\n",
    "    total_spax = get_total_spaxels(alpha)\n",
    "\n",
    "    masks, fig, axes = galaxy.get_bpt(use_oi = False, show_plot=False)"
   ]
  },
  {
   "cell_type": "markdown",
   "metadata": {},
   "source": [
    "Great! Now that we have both masks in this function, let's combine them. Using masking properties, combining two masks will give us a new mask that only contains indices where both masks are true.\n",
    "\n",
    "For example:\n",
    "- Combining Star-Formation mask with PSB-mask:\n",
    "\n",
    "SF_mask is the new mask, where only indices with both PSB = True, and SF = True are marked. This is equivalent to telling us the spaxels where a galaxy is both Star-Forming and Post-Starburst (which we would expect to be rare).\n",
    "\n",
    "With this mask, we can now count the amount of Star-Forming spaxels that are PSB, as well as Non-PSB \n",
    "\n",
    "We repeat this process for all 5 classifications in the BPT model, as well as the unclassified spaxels."
   ]
  },
  {
   "cell_type": "code",
   "execution_count": null,
   "metadata": {},
   "outputs": [],
   "source": [
    "sf_mask = maskpsb & masks['sf']['nii'] \n",
    "sf_psbcount = np.count_nonzero(sf_mask)\n",
    "sf_nopsb = np.count_nonzero(masks['sf']['nii']) - sf_psbcount"
   ]
  },
  {
   "cell_type": "code",
   "execution_count": 7,
   "metadata": {},
   "outputs": [],
   "source": [
    "def get_histogram(galaxy_id):\n",
    "    np.seterr(divide='ignore')\n",
    "    galaxy = marvin.tools.Maps(galaxy_id, bintype='HYB10')\n",
    "    alpha = galaxy.emline_gew_ha_6564\n",
    "    delta = galaxy.specindex_hdeltaagalaxy\n",
    "    snr = galaxy.spx_snr\n",
    "    snr_value = getattr(snr, 'value', None)\n",
    "    \n",
    "    value = getattr(alpha, 'value', None)\n",
    "    dvalue = getattr(delta, 'value', None)\n",
    "    divar = getattr(delta, 'ivar', None)\n",
    "    \n",
    "    maskpsb = mask_PSB(value, dvalue, divar, snr_value)\n",
    "    total_spax = get_total_spaxels(alpha)\n",
    "    #print(np.count_nonzero(maskpsb))\n",
    "\n",
    "    masks, fig, axes = galaxy.get_bpt(use_oi = False, show_plot=False)\n",
    "\n",
    "    comp_mask = maskpsb & masks['comp']['nii'] \n",
    "    comp_psbcount = np.count_nonzero(comp_mask)\n",
    "    comp_nopsb = np.count_nonzero(masks['comp']['nii']) - comp_psbcount\n",
    "\n",
    "    sf_mask = maskpsb & masks['sf']['nii'] \n",
    "    sf_psbcount = np.count_nonzero(sf_mask)\n",
    "    sf_nopsb = np.count_nonzero(masks['sf']['nii']) - sf_psbcount\n",
    "\n",
    "    amb_mask = maskpsb & masks['ambiguous']['global'] \n",
    "    amb_psbcount = np.count_nonzero(amb_mask)\n",
    "    amb_nopsb = np.count_nonzero(masks['ambiguous']['global']) - amb_psbcount\n",
    "\n",
    "    seyf_mask = maskpsb & masks['seyfert']['sii'] \n",
    "    seyf_psbcount = np.count_nonzero(seyf_mask)\n",
    "    seyf_nopsb = np.count_nonzero(masks['seyfert']['sii']) - seyf_psbcount\n",
    "\n",
    "    liner_mask = maskpsb & masks['liner']['sii'] \n",
    "    liner_psbcount = np.count_nonzero(liner_mask)\n",
    "    liner_nopsb = np.count_nonzero(masks['liner']['sii']) - liner_psbcount\n",
    "\n",
    "    psb_noncategorized = np.count_nonzero(maskpsb) - comp_psbcount - sf_psbcount - amb_psbcount - seyf_psbcount - liner_psbcount\n",
    "    nonpsb_noncategorized = np.count_nonzero(masks['invalid']['global'])\n",
    "\n",
    "    return [comp_psbcount, comp_nopsb, sf_psbcount, sf_nopsb, amb_psbcount, amb_nopsb, seyf_psbcount, seyf_nopsb, liner_psbcount, liner_nopsb, psb_noncategorized, nonpsb_noncategorized]"
   ]
  },
  {
   "cell_type": "markdown",
   "metadata": {},
   "source": [
    "Finally, let's plot all these numbers into a histogram so we can visually analyze what is going on."
   ]
  },
  {
   "cell_type": "code",
   "execution_count": 8,
   "metadata": {},
   "outputs": [],
   "source": [
    "def plot(galaxy):\n",
    "    counts = get_histogram(galaxy)\n",
    "    comp_psbTotal += counts[0]\n",
    "    comp_nopsbTotal += counts[1]\n",
    "    sf_psbTotal += counts[2]\n",
    "    sf_nopsbTotal += counts[3]\n",
    "    amb_psbTotal += counts[4]\n",
    "    amb_noTotal += counts[5]\n",
    "    seyf_psbTotal += counts[6]\n",
    "    seyf_noTotal += counts[7]\n",
    "    liner_psbTotal += counts[8]\n",
    "    liner_nopsbTotal += counts[9]\n",
    "    psb_noncategorized += counts[10]\n",
    "    nopsb_noncategorized += counts[11]\n",
    "\n",
    "    categories = ('Star Forming', 'Composite', 'Ambiguous', 'Seyfert', 'LINER', 'Nonclassified')\n",
    "    category_counts = {\n",
    "    'PSB': (sf_psbTotal, comp_psbTotal, amb_psbTotal, seyf_psbTotal, liner_psbTotal, psb_noncategorized),\n",
    "    'No PSB': (sf_nopsbTotal, comp_nopsbTotal, amb_noTotal, seyf_noTotal, liner_nopsbTotal, nopsb_noncategorized),\n",
    "    }\n",
    "\n",
    "    x = np.arange(len(categories))  # the label locations\n",
    "    width = 0.4\n",
    "    multiplier = 0\n",
    "\n",
    "    fig, ax = plt.subplots(layout='constrained')\n",
    "\n",
    "    for category, count in category_counts.items():\n",
    "        offset = width * multiplier\n",
    "        rects = ax.bar(x + offset, count, width, label=category)\n",
    "        ax.bar_label(rects, padding=3)\n",
    "        multiplier += 1\n",
    "\n",
    "    ax.set_ylabel('Frequency')\n",
    "    ax.set_title('PSB vs non-PSB Spaxels for all galaxies')\n",
    "    ax.set_xticks(x + width - 0.20, categories)\n",
    "    ax.legend(loc='upper left')\n",
    "    maxy = max([sf_psbTotal, comp_psbTotal, amb_psbTotal, seyf_psbTotal, liner_psbTotal, sf_nopsbTotal, comp_nopsbTotal, amb_noTotal, seyf_noTotal, liner_nopsbTotal])\n",
    "    maxy = 1.2*maxy\n",
    "    ax.set_ylim([0, maxy])\n",
    "    ax.text(0.87, 0.76, str(nopsb_noncategorized),\n",
    "        horizontalalignment='right',\n",
    "        verticalalignment='top',\n",
    "        transform = ax.transAxes)\n",
    "\n",
    "    plt.show()"
   ]
  },
  {
   "cell_type": "markdown",
   "metadata": {},
   "source": [
    "Let's look at some results in the next page!"
   ]
  }
 ],
 "metadata": {
  "kernelspec": {
   "display_name": "marvin",
   "language": "python",
   "name": "python3"
  },
  "language_info": {
   "codemirror_mode": {
    "name": "ipython",
    "version": 3
   },
   "file_extension": ".py",
   "mimetype": "text/x-python",
   "name": "python",
   "nbconvert_exporter": "python",
   "pygments_lexer": "ipython3",
   "version": "3.8.17"
  }
 },
 "nbformat": 4,
 "nbformat_minor": 2
}
